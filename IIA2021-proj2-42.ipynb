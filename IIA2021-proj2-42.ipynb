{
 "cells": [
  {
   "cell_type": "markdown",
   "metadata": {
    "colab_type": "text",
    "id": "LekFEsVbua_R"
   },
   "source": [
    "#  Jogo dos Rastros\n",
    "## Projeto nº 2\n",
    "### Introdução à Inteligência Artificial edição 2020/21\n",
    "\n",
    "\n",
    "## Grupo: 42\n",
    "\n",
    "### Elementos do Grupo\n",
    "\n",
    "Nome: Ivo Veiga\n",
    "\n",
    "Número: 44865\n",
    "\n",
    "Nome: João Silva\n",
    "\n",
    "Número: 48782\n",
    "\n",
    "Nome: Manuel Tovar\n",
    "\n",
    "Número: 49522"
   ]
  },
  {
   "cell_type": "markdown",
   "metadata": {},
   "source": [
    "### Explicação da função e sua lógica\n",
    "(descrição)"
   ]
  },
  {
   "cell_type": "code",
   "execution_count": 18,
   "metadata": {},
   "outputs": [],
   "source": [
    "from rastros import *\n",
    "\n",
    "#win_or_loss = state.compute_utility(player)    \n",
    "#if win_or_loss != 0:\n",
    "#    return win_or_loss * 5\n",
    "\n",
    "def fun_aval_42(state, player):\n",
    "    goal = (8, 1)\n",
    "    no_goal = (1, 8)\n",
    "    if player == \"N\":\n",
    "        goal = (1, 8)\n",
    "        no_goal = (8, 1)\n",
    "    \n",
    "    if state.white == goal:\n",
    "        return 5\n",
    "    elif state.white == no_goal:\n",
    "        return -5\n",
    "    elif len(state.moves()) == 0:\n",
    "        return -2 if state.to_move == player else 2\n",
    "    else:        \n",
    "        score_white_goal = 1.0 / (2 ** distancia(state.white, goal))\n",
    "        sum_score_moves = 0\n",
    "        for move in state.moves():\n",
    "            score_move_goal = 1.0 / (2 ** distancia(move, goal))\n",
    "            sum_score_moves += score_move_goal\n",
    "        \n",
    "        return (sum_score_moves * 1) + (score_white_goal * 1.0)\n",
    "    \n",
    "\n",
    "#########################################################################################################\n",
    "### APAGAR NO FIM #######################################################################################\n",
    "def pergunta_print(game, state):\n",
    "    state.display()\n",
    "    print(\"ultima pos: \", list(state.blacks)[-1])\n",
    "    if len(state.blacks) <= 1:\n",
    "        pergunta_print.tst = 0\n",
    "    pergunta_print.tst = pergunta_print.tst + 1\n",
    "    print(pergunta_print.tst)\n",
    "    print(\"Jogadas possíveis: \", state.moves())\n",
    "    return eval(input(state.to_move+\", para onde quer jogar? \"))\n",
    "    \n",
    "humano_print = Jogador(\"print1\", pergunta_print)\n",
    "basilio_test = Jogador(\"Basilio_test\", lambda game, state:\n",
    "                  alphabeta_cutoff_search_new(state,game,depth_for_all,eval_fn=f_aval_basico))\n",
    "#########################################################################################################\n",
    "#########################################################################################################"
   ]
  },
  {
   "cell_type": "markdown",
   "metadata": {},
   "source": [
    "### Demonstração\n",
    "(Mostrem que o código está a funcionar, com exemplos adequados, executem um ou mais jogos, mostrem os seus resultados, exibam situações de jogo que demonstrem que a lógica da vossa função está correctamente implementada.)"
   ]
  },
  {
   "cell_type": "code",
   "execution_count": 20,
   "metadata": {},
   "outputs": [
    {
     "name": "stdout",
     "output_type": "stream",
     "text": [
      "Progresso com 10 campeonatos: 1 2 3 4 5 6 7 8 9 10 \n",
      "JOGADOR VITÓRIAS\n",
      "jogador42      9\n",
      "Basilio       11\n"
     ]
    }
   ],
   "source": [
    "jogador42 = Jogador(\"jogador42\",\n",
    "                  lambda game, state:\n",
    "                  alphabeta_cutoff_search_new(state,game,depth_for_all,eval_fn=fun_aval_42))\n",
    "\n",
    "#jogo = jogaRastros11(basilio,jogador42)\n",
    "#print(jogo)\n",
    "\n",
    "def mostraJogaRastrosNN(n_c, listaJog, listaAdv, nsec=1, verbose=False):\n",
    "    lista_jogos=[]\n",
    "    for jog in listaJog:\n",
    "        for adv in listaAdv:\n",
    "            if jog != adv:\n",
    "                lista_jogos.append((jog.nome, adv.nome, jogaRastros11com_timeout(jog,adv, nsec)))\n",
    "                if verbose:\n",
    "                    print(\"\\nZZZZZZZZZZZZZZZZZZZZZZZZZZZZZZZZZZZZZZZZZ\")\n",
    "                    print(\"JOGO \" + str(n_c + 1) + \" com \" + jog.nome + \"=S e \" + adv.nome + \"=N\")\n",
    "                    mostraJogo(lista_jogos[-1][2][0], verbose = True)\n",
    "                    print(\"ZZZZZZZZZZZZZZZZZZZZZZZZZZZZZZZZZZZZZZZZZZZ\")                \n",
    "    return lista_jogos      \n",
    "\n",
    "def n_faz_campeonato(num_campeonatos, listaJogadores, nsec=10, verbose=False):\n",
    "    jogador_vitorias = {}\n",
    "    print(\"Progresso com \" + str(num_campeonatos) + \" campeonatos: \", end='')\n",
    "    for n_c in range(num_campeonatos):\n",
    "        campeonato = mostraJogaRastrosNN(n_c, listaJogadores, listaJogadores, nsec, verbose)        \n",
    "        resultado_jogos = [(a,b,n) for (a,b,(x,n)) in campeonato]\n",
    "        tabela = dict([(jog.nome, 0) for jog in listaJogadores])\n",
    "        for jogo in resultado_jogos:\n",
    "            if jogo[2] == 1:\n",
    "                tabela[jogo[0]] += 1\n",
    "            else:\n",
    "                tabela[jogo[1]] += 1\n",
    "        classificacao = list(tabela.items())\n",
    "        classificacao.sort(key=lambda p: -p[1])\n",
    "        for jog in classificacao:\n",
    "            jogador_vitorias[jog[0]] = jogador_vitorias.get(jog[0],0) + jog[1]\n",
    "        print(str(n_c + 1) + \" \", end='')\n",
    "    print(\"\\nJOGADOR\", \"VITÓRIAS\")\n",
    "    for jogador in jogador_vitorias:\n",
    "        print('{:11}'.format(jogador), '{:>4}'.format(jogador_vitorias[jogador]))\n",
    "\n",
    "n_faz_campeonato(10, [jogador42, basilio], verbose = True)"
   ]
  },
  {
   "cell_type": "code",
   "execution_count": null,
   "metadata": {},
   "outputs": [],
   "source": []
  },
  {
   "cell_type": "code",
   "execution_count": null,
   "metadata": {},
   "outputs": [],
   "source": []
  }
 ],
 "metadata": {
  "colab": {
   "collapsed_sections": [],
   "name": "Untitled0.ipynb",
   "provenance": [],
   "version": "0.3.2"
  },
  "kernelspec": {
   "display_name": "Python 3",
   "language": "python",
   "name": "python3"
  },
  "language_info": {
   "codemirror_mode": {
    "name": "ipython",
    "version": 3
   },
   "file_extension": ".py",
   "mimetype": "text/x-python",
   "name": "python",
   "nbconvert_exporter": "python",
   "pygments_lexer": "ipython3",
   "version": "3.7.3"
  }
 },
 "nbformat": 4,
 "nbformat_minor": 2
}
